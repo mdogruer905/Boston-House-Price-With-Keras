{
  "nbformat": 4,
  "nbformat_minor": 0,
  "metadata": {
    "colab": {
      "name": "Boston-House-Price.ipynb",
      "provenance": [],
      "collapsed_sections": [],
      "authorship_tag": "ABX9TyP7vebmoEX4ZIFUy3/bek3M",
      "include_colab_link": true
    },
    "kernelspec": {
      "name": "python3",
      "display_name": "Python 3"
    },
    "language_info": {
      "name": "python"
    },
    "accelerator": "GPU"
  },
  "cells": [
    {
      "cell_type": "markdown",
      "metadata": {
        "id": "view-in-github",
        "colab_type": "text"
      },
      "source": [
        "<a href=\"https://colab.research.google.com/github/mdogruer905/Boston-House-Price-With-Keras/blob/main/Boston_House_Price.ipynb\" target=\"_parent\"><img src=\"https://colab.research.google.com/assets/colab-badge.svg\" alt=\"Open In Colab\"/></a>"
      ]
    },
    {
      "cell_type": "markdown",
      "metadata": {
        "id": "RfuLgenQyxzS"
      },
      "source": [
        "#**Boston Gayrimenkul Fiyatları Veri Seti**\n",
        "Bölgesel vergi oranı, suç oranı vb. verilere bakarak 1970 ortalarında Boston Banliyösünde ki ev fiyatları tahmin edilmeye çalışılacaktır\n",
        "\n",
        "> Veride ki öznitelikler **Suç oranı** örnek olarak farklı niteliklere sahiptir. Bazıları 0 ile 1 arasında değer alırken bazıları 1 ile 12 arasında değer, bazıları ise 0 ile 100 arasında değer değer almaktadır"
      ]
    },
    {
      "cell_type": "code",
      "metadata": {
        "colab": {
          "base_uri": "https://localhost:8080/"
        },
        "id": "jrcTxvB2hNiq",
        "outputId": "08c620d9-63c2-4dcb-f9cd-48bda66d5b7f"
      },
      "source": [
        "from google.colab import drive\n",
        "drive.mount('/gdrive')\n",
        "% cd/gdrive"
      ],
      "execution_count": 1,
      "outputs": [
        {
          "output_type": "stream",
          "name": "stdout",
          "text": [
            "Mounted at /gdrive\n",
            "/gdrive\n"
          ]
        }
      ]
    },
    {
      "cell_type": "code",
      "metadata": {
        "colab": {
          "base_uri": "https://localhost:8080/"
        },
        "collapsed": true,
        "id": "RIhESsRPhyP2",
        "outputId": "ea6d69f9-e5a0-4c1c-bc52-f1cbc9e366ac"
      },
      "source": [
        "#Device info\n",
        "from tensorflow.python.client import device_lib\n",
        "device_lib.list_local_devices()"
      ],
      "execution_count": 2,
      "outputs": [
        {
          "output_type": "execute_result",
          "data": {
            "text/plain": [
              "[name: \"/device:CPU:0\"\n",
              " device_type: \"CPU\"\n",
              " memory_limit: 268435456\n",
              " locality {\n",
              " }\n",
              " incarnation: 3760108307934506722, name: \"/device:GPU:0\"\n",
              " device_type: \"GPU\"\n",
              " memory_limit: 11345264640\n",
              " locality {\n",
              "   bus_id: 1\n",
              "   links {\n",
              "   }\n",
              " }\n",
              " incarnation: 3730008716717134714\n",
              " physical_device_desc: \"device: 0, name: Tesla K80, pci bus id: 0000:00:04.0, compute capability: 3.7\"]"
            ]
          },
          "metadata": {},
          "execution_count": 2
        }
      ]
    },
    {
      "cell_type": "code",
      "metadata": {
        "id": "fijdmCIch6uT",
        "colab": {
          "base_uri": "https://localhost:8080/"
        },
        "outputId": "24488c5a-6ae0-417f-a78f-e37610a14a16"
      },
      "source": [
        "from keras.datasets import boston_housing\n",
        "\n",
        "(train_data,train_targets),(test_data,test_target) = boston_housing.load_data()"
      ],
      "execution_count": 3,
      "outputs": [
        {
          "output_type": "stream",
          "name": "stdout",
          "text": [
            "Downloading data from https://storage.googleapis.com/tensorflow/tf-keras-datasets/boston_housing.npz\n",
            "57344/57026 [==============================] - 0s 0us/step\n",
            "65536/57026 [==================================] - 0s 0us/step\n"
          ]
        }
      ]
    },
    {
      "cell_type": "code",
      "metadata": {
        "colab": {
          "base_uri": "https://localhost:8080/"
        },
        "id": "KqhjuQsKiRBm",
        "outputId": "f8c979c7-9e92-4a4c-c229-aeb33aee7667"
      },
      "source": [
        "train_data.shape"
      ],
      "execution_count": 4,
      "outputs": [
        {
          "output_type": "execute_result",
          "data": {
            "text/plain": [
              "(404, 13)"
            ]
          },
          "metadata": {},
          "execution_count": 4
        }
      ]
    },
    {
      "cell_type": "code",
      "metadata": {
        "colab": {
          "base_uri": "https://localhost:8080/"
        },
        "id": "JONxZrIvjXXD",
        "outputId": "493ecf6b-bf60-4724-fe0f-5067ce3af674"
      },
      "source": [
        "test_data.shape"
      ],
      "execution_count": 5,
      "outputs": [
        {
          "output_type": "execute_result",
          "data": {
            "text/plain": [
              "(102, 13)"
            ]
          },
          "metadata": {},
          "execution_count": 5
        }
      ]
    },
    {
      "cell_type": "markdown",
      "metadata": {
        "id": "QoNqYQNVj864"
      },
      "source": [
        "# Preprocessing Normalize\n",
        "\n",
        "Her sütundan o sütunun ortalamasını çıkarıp standart sapmasına bölme işlemi yapıyoruz. Böylece nitelik 0 civarında ortalanır ve birim standart sapmaya sahiptir."
      ]
    },
    {
      "cell_type": "code",
      "metadata": {
        "id": "E2wyf2VqjhPw"
      },
      "source": [
        "mean = train_data.mean(axis=0) # Train veri setini sütun bazında ortalama\n",
        "train_data -=mean \n",
        "std = train_data.std(axis=0)\n",
        "train_data /=std "
      ],
      "execution_count": 6,
      "outputs": []
    },
    {
      "cell_type": "code",
      "metadata": {
        "id": "bsI0S3mhk99F"
      },
      "source": [
        "test_data -= mean\n",
        "test_data /= std"
      ],
      "execution_count": 10,
      "outputs": []
    },
    {
      "cell_type": "markdown",
      "metadata": {
        "id": "edEuth2-la3p"
      },
      "source": [
        "# Bulding Network"
      ]
    },
    {
      "cell_type": "code",
      "metadata": {
        "id": "NyAfblbXlHH7"
      },
      "source": [
        "from keras import models\n",
        "from keras import layers\n",
        "\n",
        "# Creating Function for Network\n",
        "\n",
        "model = models.Sequential()\n",
        "model.add(layers.Dense(64,activation='relu',input_shape=(train_data.shape[1],)))\n",
        "model.add(layers.Dense(64,activation='relu'))\n",
        "model.add(layers.Dense(1))\n",
        "model.compile(optimizer='rmsprop',loss='mse',metrics=['mae'])"
      ],
      "execution_count": 24,
      "outputs": []
    },
    {
      "cell_type": "markdown",
      "metadata": {
        "id": "7RBC8CdLnW0P"
      },
      "source": [
        "# **K-Fold Doğrulama**\n",
        "![picture](data:image/png;base64,iVBORw0KGgoAAAANSUhEUgAAAT8AAACeCAMAAABzT/1mAAABtlBMVEX///9PisXk7PWGrdWzyuQAAAD2+fwAhG9ilsv5JQCZudvd6PPr8fiBqtRpm8xjtKfx8fHB1Onr6+vQ0ND8emOHh4c3NzdsbGxRUVF6o9BVj8c8PDy0y+S7z+bQ3e2VlZW0tLQ6gMCjvt3h4eHIGwECUkfddGSfn5/V1dXFxcVklY+6urqEhIQASj+Qs9iqqqrjAACeAAABYVOFAADw5eSUAAAAPTKrAAABb14AfmrhAACampqzAABjqp8AKBztIgDXHgAAMyjpdmPQAAABXVAAQTZ9AABkZGRZg33wAAAAdWPr3NvTurlknpYAIhW2g3+Gk5CsvLm+AABmeXRNbWbStbMqoYzGlpF5x7r9opPTcGG5enOLKSC/ZluKm5cAEAAbGxv9hXA/t6KTNjIAGgk1UkunZF/9QSiJIhfWiX+wd3Nykoz9kIBOe6deeZZdZ3ONrKfmu7a9Uk3VlpL4blWWuLLYZl/bS0FHYFo1emykU07ki37EpqT9Uz/6Ri+fW1c4WnwkQTrMioTln5bYNiiaenjOV07OxMocMy2pKB/NenPWXVTnr6j7Xk3+raDignXFOy2VQz6lNju2AAAcaElEQVR4nO1dC1sbR5YtbCMjXi66UTBaoGUaoW4k0SCEEC+BsGQLJANCKJrBRnEGQ2zI7oJhMoSQ8eLJZmLizKz/8datqu4WQnj0QmMcne9LUimublWfflXXuXULNdkb6igbdmTvu1VHuWhpQg23UB3lwlLnryLU+asMdf4qQ52/ylDnrzJUm7++jnJwc89gtflrb+ouHQ0dVexBbVFt/rp7y/lRnT8ddf4qQw34s7RVEz1l9De3M9fJHyYo6kel8dfQf6dq6G4u6fAud+Ya+cOax+bgZUGEfysq/FvNJ7VU/ixld+8S+j9h/hByKwi7NCRqqrvLggSXTZU1F+5SVZfjwo9K5K+1Ch3l+LT5c4jIprrcNlWRNYSmBVVVFJs8jVXFk3sN1vkzcIk/j6jKsmpTHAhJWFE1VVJc2CZ6hNwf6fwVRUwh/shlrSmsSB8Ucq57VlX4SVwSfwW6d+38qZJHntYkuQsj0eZRJa1LdDm6tC4590ecv/72Yp5shfjD8mMBYwHJMiKPDBkJgkUmhME/5H8lJMhIUvJYZU2Wwt9w/+XOfDrjl76mhu6W1lu3Wgj6AOTDrre3t+fOnf7+5ubh4dttbd3d7e3tTQXv3y6E7msOt4tc310OiTxv3R7Boz7GSJE0m6I5HB7Vodrk/J/125uIy+7uttu3h4ebm/vJq72ntxe+KWkXoC+3brW2tlos5NQ2NzT15f3+0+HvdoO9yW63NxG0t9NjIkfVZhxX/52enl52VFfx5yG3sc09LbqRpKoS0lQNTWPkksmD1+FyOQTF0SXm/6z/dgs9U709PeQ0sfN0m54peq7I2QLYKWih7eItUnX+yhiPWih/LcN2ezs72ex801NeyPxq/jyy5pAIfzbVLSGXIgnkqaE6FJtG+NQUjyCp+T+76v5l7bO+MKGD8Nxtt3d3XDN/7W1XzRK0XfGXtjY+f9DSXfbzj74jFCS4RVkmj0FFEMjTDosqvOZVt4xJvaDKbvHSA7Ck51+3/dLdVcP5q+G2K/+kE9JSPn+F4HJdut7yUQp/lgLDrBrOn95pq46fz/r74yPorRp/PWVN0hZE283hr69a/LVXE3cq7EwN+euuTTs1RS35a69NOzVFDfnrKGp0csNQM/46uruburs/OwZrxp+liXyeVfiw/gRRu/u3j3ye1aShmqKq/Flcto/gP+3/9ZG/eopSSj45XMFfR3OxyH2i4S++uH81/vs/P/LH+42XppZuBK7gr7m9vzg8uMif+6NtfeyPnxl/xX7WFOLv4NWrjJ/ViPv7+3xeHSX3s0lGkgUs4hctCH/xzdebGXYbv3/9ejPBfB6+fr2j28bW15OsQXlvfX2VeyMW5wneRmw9lWTFHG8HxFvadJHlvc2ur6dEs1pjxQPyu1OU30iOtwu4ir/hQmQVwGX+8D+POjsX2NH/efbevScxekD4yb17s09iMCGSY4ENi0b5/ciidWRti3CFv1u0WucndomB/y+k+HB0BVzsBScnfYFjOAoxuDS55I1Sb8wiAxYxsAivQhG8zc18IOcRbxCDKeoN7RODIHMhf09cREJaXvX5CDGeOYFahTYSgEYOoW8zW/Hr5K+V8fdD5x87OzsHN0lbyXt/uKcTuE/LQzFyrf1wZFj8mVuIqPF07scfrda5tQ8YbSx2WgmBo+Qy+NlKi+OE7OTSl3fv3g0GUoQS35ekPOkMkSP+jlmMkgssOwkWvjC5wA5Gfvsr8QZEvOLeCMPJoOECfX8XypFl9YLnw8Wjb/i5w767rBEBxUdY37ZK4C9vqtGSe/Ga5Rz++odbCH/xI8rfwkYG4VnKzuzQHjnbs5ypLIp3cosVJOgWWdT42gp9tA6Mx9FD629W6O4zHB+xHsHBr71BFnbAk86vBEIUO/iwC/mnqMUUOTYhSGuXvCFg9bdvqLcE/okaEG9+RBm5e9cZkpG6RMvBKCEtwj2T6jX6u7mBMT9Kskbgej7X+5Yonj8b1gwjJLixYv5VNtXHB618qtuC+hua/seNDjopFjaeIpncspSdmIDEWVp+MpRCCdNCmeUWe0LjqJViYDQTn6IlchA4vUiL8wNjCEfg0MlRkitmdZKWI+Tg0yPc4hGSfbR2ifCAf9a9JeLz3Bs5MbqLkIrcS7Qc9G5bUI7nh3rTcb0RH2nE8JYpgT/5vqC5RMHmcGia2iWLouRCrmkX+atbMvnrMObh28kHRnvLwQJlZ9Dkj3BG+DPKKG5aKHrtHm58px/maXxNpwSn2fHMrz1D2MkO2PmC8BdkB0zuuMRDkz8vO2AvuY5e694S8QH9FMSRd5K7EJHDx0/BMcqtntC9xVHWbMTwVgJ/Hjwte9THioZEsUtxyJoNuVUPkuDedZn8tegzkX3DdntDP/JvAD0Lg+QdZtl7wi4/cv8KsVlKVGzftCB3OLUgteT+3RmYgy5Cz8fn6TFMfED+0TlaHCXPo1SEXlzeRgtKBsjVMxlxLjsQ1i1OEN72URqiYYR2HtIDXiOkvZunxYktjI4jk9QFIViJAj0+Z4jcvznV3HjmEUbJKGvkhYZWmDfoWwn8SfK0oCpubBM8iiZrEuFPusRfzvPP3gzvj9ONwYXBwc2nGEYFQ0+GhoZScOsnaTlGLkWU3hgk2HjqN2tl1Pj3d2sDBGOEqdPRgfkBcgzkabMyAcWJR8RWWXZGnE7vCxh+HEehHN4mxVNuAe8rahF9Qd5X/vE1Urs2Rl7cadObHPCCi6/AxWoYjANhMj5RwkZ1nBunLzSCmbfx3UtEXc3ftEVSpqcdsmqRNEm2iaoqSdiFNODPUYi/jlts/JfZJHhKz1QyRpBiIg4t79HR1Gm+hQLjl/iz0dHRsV3wnxkfHR1/REdhu1Dcos/t5FkoHArR0YlwHAqHl4+ptxWweEbHd9kwqQ3T53bi5egE93YKBmP01lPBxfIqdBqnwMWZmFMNxfSYYSysg8U2NJLYgtqdywPA6o//yDlMpPXrXBCTot6orCb1d9BFCwV8kPEzTqxk+AsufrqiW5Bigo/GBfeqHuWCVFdWF9dyLBTHqoN/yPgTK6fxS94Ex6qmi+iiturGl6r9aeN3SM1mVXaA2PR2AVXmz+N2OBxuAgdDTvGKar34mX2/tbUUhb6L/D3+onx8Vvz1NxWLC5MCuALU6oiri0rn/z67CfkSUV+/VRnq/FWGOn+Voc5fZajzVxnq/FWGT4W/mzpsvIK/lt5iUZ0BoNBYLhxVab9sXPX91nS7uOWLD6qzFkh4rgmyLBDIFMLFonyplpeFxo8qptePCucPLA8KXH+Jt09P+X2l7Kc0/cNWze4lBcNCFwPF/VRSJvyp5B4+eH/A5zj8B+/1KZX4wfs4t8ViUtW9KUk6bwP8xQ/PT/X5l/29rD7/8v78UJ9/OTzX5VIhuZfV51+gQ/hStT9jGGN1b5Vb+A/OM5fED1Tl+RfW6HcjiyNrz2hj+8GlJW+AzsdZYsGlYHSb6Zdg8Y5aZEmtN5DEz90o/s8jKjsRvF840iXQv3V2dn53Tg9InJ2d1dXQfVKOZQXgb2NkcW7tXdpsj+q7ifnFxYcTdP7vcGpx7uEonU1MBoNLESZw4j3oEJv/S5Lf8epD+juql8qky74Am//7aYTUXvf8H8XG4l+tVuvamF/XBSPLcMh7k1QMDJMr8JxagJ6D9qmFM+R4ruKFr79muh06OPoWZvhB4HxPi4ObfirhGWroEy47Ef5emd6YPBkJwTU58s0c1yHfU4P58TQoulQgoXOweodg/nmJVRPiE4v0d5RtKvgtec8sSJj6BlTNmZ0S+PuIfonNuaZc/vphdUR8yvqtlbUlfH/3T1RPPCMHH6RlELPiI9ziRK8Nes++UP929EddFv618x9UIVlB+Ojrf3A1FLTiPwBp6+TOm/0D142fu3h7ax9Av2TthRHatHZyNdTyEzWYW9vC6PtJrhvLSOUdAtHXZ1avWb/+K9cvHZPUIhLOorfW337TT1Kx/EmCy+ALYS1Xv/S4pw3+Wk0C7zR0t5CzbShm7GzfXYJznAxyufAMJbjiOLMFB8Fqf3mu/sBkzcHNhHDEBM7BHRznWufgUxrAcI9K8MQbK5Jr8fn/juiKY45+KaAC+uWYrl/ezdUvQX/Tqw390grGWa5fBnL0y9MS+FOofilT/VJ5LIoy6B/ThDksII/BX183fxPfbu622+39mSnO30ukRDg7YQVpXC4k14auSQJ/Pq44Ev7ODf78CwZ/iQWTvyFdTVZQcpZTSfibN/VLrnB6Df33gn5JLh4vJ5gQxfVLX3TbYsmpnsnRfynDk5Ec/bIU/VcSpuUuXb+UXbLbhhSN65fmOrIHt/o6Ovp6ewh6u0HA/PsM1xPfIGE7SLsVhfs3PEm1xcAxilOLuYEJcv96l5jFL1+oh5SqQbh/XzOBc+Mp8v/M6IP7N0tJGxpax0gdYrJxTH0+PcG9bSHBy9rzvuD6pXVgYCyB300xSXLLj6jACbonuX+jrENhcv+yaidUjzLjtUfk/qWysM9Jnpa7D/k5KiX+QJDoSnE39ggenT+mX9oKP/9u24eJqzdr86AnkhOIsuGIL0IOBx4EqaiPlKMh8r7bmQGLmTHSmdVAJEgtvlD9m4MLIHxmQAJdIMUNeAFnaOXGCfGmxJ48AbGTvD8se0O0mELPHSvE2zzzRtoL+lh7oEOSRsbfEBcTYDDwiDhWw06fj/CUYh2iTSsXqtPMGAQ4y5mXdvkXAcXHqbfRD5eIupo/F5YUl65fCpJbVSRJ0EC/lO97bIX466eLY/1bozMzo2PwpMCpUNQbYLqgsB2ORsM03Ml/Qi3gXsDrIVK7nBXI+CVxvrGxsbkCI7nMJintUBdvaZGOTpKx2FAslqXBU3tQ3FNg/PLB8IZYe8AOOh2fmJkYO4H4q11iMDFGtdtsOOANvGDxV8dGh1j1Mq1eGQfjN1ArnoW90dAvquHtw7XGX+nAmZOtXd5SMrXN5V9kya5v82A6dPrGtDgGCzp+9qdN/TKzog9iE5mVNB8dy8lsko9yLWo2C0NbGD+f7jzTvbnN9hIrWyd8GJ/Y2drR4/9SZ3qgH3Ydb68ql6oTu890YyF7fKzH/xFvpcT/lRU/WT6E5x4mZuaInWbR4ShQpkX3p/r9dru1uPypVeIP3/+P8vDFv1yher24Ur8scvmdvUoC3Gc2f1Xk1UdQ+y5/UvhU5k9vKur8VYY6f5Whzl9lqPNXGer8VYYbzh8Wy0WVOnDV+K+48EmCKvWjTIhl655VCte86vutocjwySrpl+VCbLyckq4YWK6bv2F9WdG/QIHvX8vB5qax/nJvfVW/VZKxdV1bPDjfPOQWKrHgkyD+t6/P+cxH4nzzbdyw1adilOz6Hv/exclYKikQ/ojH+PvDA2OGZj+p65cHh+91/ZIYGPrlPkSxY/I7S06HZOKZz0TEX71+mjAb0dgJih8afSuKv/LnX/BfFkFPpF3YC04acmEsCCsmQTzDv4IF6GEgIk4uOdmKg4P5xcWpmRP4ov3nyOLcw4mMYTuqq5OTvnAKWlS+D04Go9uKQnh4Bas52QLW5Ow9XeE8WKBqKHh7T5d7pk2DLPAn0A4F3HmeX9Gmn1JSeSOsb7Aq0180f+XP//1q1ZcBcnUyEoIDitG1kc6wAgqnYcFWTNJFkPE50AjnZt7AiskfrXzR5XdWQ/gSg/pyPkNaDKiNsq5w5qz3hLnEzm/z1VBYPzPLF4QS/mJsdSV0SGXrL8HzAWuaCh10OeKkN4yRf4r17aQE/i4obkgRct5Y2rTxpwvzz5D7Lz5i/bqAfqno+uWxaWHqlyCCfbdoaIQPqQEojv4pbsvWX9IjbsRwYijvgcfPlU4mdm6sgELHVnOmEPrb0R85rZZBatC58RQjZgCraBtdS6xpql/ezdEvO/X1l5q+/jKLznX9shT9Q+7CsoqxqMiqLHfJskUVkaLCw0MVJIO/nPcH1S8zOfqlride1C/1FZNrOfrlmYx+MjTCQusvXxZef3n/ub6ac5Ccr5z1noYaGudqXufguR8ZEqjaKOnrL48tl/XLuav0y1L0N9kj2ESb4pE12aPYRLdLhGWYNE+Gx6EbNujyZfcw1S+buX45MPMsR78k/BXWLyNcvzwT0DtdcTyNG0sqzfWXL/X1l1Rl5OsvI9Ht5+kFk78hvpozhtErk79BbkD4MyRQwl/u+kvu+YVo6JePDP3SWb5+qXgcmuhGmoPqbx4kuCTIKGqxQLZMfv1BRtIOFsrG9MsJrl/u5OmXS1QMDK9z/ZKumJTpIkiqahqKI6y/1CVJ7De9oXUfUyfJ/atFmbQYJvfvBmNnk9y/e7OUHbh/M6Yaeq6roRhln3ADpVGj0ukF/dIL+qW+/tKPHFHW5eVsWesvbYJH9qjToF8q5LJT3Q6HJNpAv8Qet3n/XtQvyd38lKqTdD2kFnJS/RLeH6lAxOd0RskjBu3OGArnaphafAXvD6YRju+A4mismNw1vYnL1JbKedte8BY4I++P9Hew3nMDckzAek+QNcmjOkcNTdAFoRsn8P7gBuT9IfAOEc6QSHvhfEE8J+j6yzUqH25HWSPk/TFuqKFF84eRgAUZW8h/ZShjSK6M6dJ9QTZYK6BfnoxOTIy/pMOF1VAgEGb6JU6RcugXOn7ZGScWdImoJUUt6Pgl/XJ0ZpQqjmiXGHCB8w31RuMmsuFwNLxMRxnyNvndMhu/ULGTDdnYak46fomfb25sspQZaVMCVcGAjV9Yh8LUWAPPL6jnzPgE6QUNFFKOoZEzhfWNdOhNLcYvoADu6PF46mrKGD+7Uyl9uJrYfZMxLbL6+Pl0Z5ePUeMrJ4Z+SWzN8fOqPn7WUusaZt8f8XQmkaNw8i8SnM7oKyb96YwugWJz/IySpEPcWDY9xzMnKwmjkZSG8/t2AdfBXw0hNnokaRogUUxPu/SidEUtLdo+je+3wvGnNYTcVS7K+26+hKv4s3cXp1/+m+cP/u24gr9bfcXid74A84bPn/7bUeevMtSQv9b8vR+up5XrmhEv/KSqIX+Wmsz1Xxt/hXPzl8Tfnd/5y6IASuKvTt8l1N8flaHOX2WoIX+3Ktxqsji0XNdepD0Fv7Rq+Py7YjujauO6WrliM6ZS+Ouvv0DyUX/+VYY6f5Whlvz97p9/leFWTXavaClnA8Ri0FOQppL4+53PlRZCSfz11N+/+ai/PypDnb/KUOevMvxO+cNlx03nBZ4X5q+vp2jczFcKbnSUFbXvLo6/201XbeKbj0L6L06kjUARxciZDdmXBNPCiGQSk0YogD+d0Nejxg0DS443OcebqureLPGC7cXTCbNoNCcnRQuP30CyYix/xYrZi7gZ5iIbkT44Di7w8+L4K3qoWyD+4PDhyMOJHdoH0efzhVmKJJSM+CKhY3rM78HihOVvBwsaYoz8Pz+cWmMZVg7mp6ZmXsYNb8xW+d7nCwRowI9lL+JzsjzsxNvU1ATbGkY12/P/PKV7SxCDmXeGi2goSfkTn0AoNGVQ2J+dpWFbCLJILfB8USgJFvuUvVcsoZRw/fy9XZzj2X54eKkzDG3uQzDdZHQbwx4vc3w/ExaWOgkBlgjTANR5iBo/AAPrwLjfsB0nPxNoxGMkzLJB0djbY6CPWbz0Q4T0XT2k2U+zvtA45gMa70pDqAWeqAni15I8BRTxjHlmKIh7o3GDNHUU+jO1iEE6rUG2Y0m6hOsvnxhLwWIOfy1Un9TzN02sQMSyEd2s528KrKL4PLfYRThoBiG/Wjw64sc5YP12DnYheoPw1JzujXD2py95diY1+CVNrRRyIzxPjSHeGn8/ydrbppv2/MjjmP/C8jdB8HeMupj0nimN6qy5udA+zwxFuPzh6B/f0nw9GClGkih0YOSWKp4/DTtyatwoJ9GAZBZz+WuA8MmDRSM6V8/fBNG5RqTztpm/6QNsosNrMfo/PcY4gc345wTzBrvzYB+Pf34hmqHJq8gMls7J34SNiOVxM3/Ty9z8TY08BRRsHYRyMkP9qsf9YjNJlEaTwNHadPH8SfJ9WXSJyKWJmkMgZcGlIbcGoY4ewcw/1GFEwtyB9E3oUI8Of4TEnPxNbDMX2BsGnfIMTzPPMM/fROPHJ4wY7Zz451N9d54xhI0sS0kemsz275nSjY38Tc6Qkpu/SQ8JH49bnPwUhLRGTd9QaM9iMcKiRZO/uMlf1oymPi2BP+xBXRC5i1TZI9uwSyKvPNiUBqH7NuOqazBfxe2EP3tHYo31duIDOZ4lFlf8C0ZigB08ubfipoVCUyRNkloL2pziTCUQT8lECI7PcNsTZDmmpyDibBRQ1smICk8jP7eYeYkEL29vGaETw5v/3RwPaPejbe5iWW10DHHOyPW3N2vsM7TJiBrcwUjlSfLIHc6iqRcGNxMl8Ye7FLfsQtOiTZaQy4Zkhw1BOsnHOfsftRrBgH0NEP+Mnw3Mzc0PrI2lIUVScCnohARSCB87oewlFw/eohYDEGO87qUWy1maOQmqJ7b86GRtHgzGyUNPt4XdyQK+pWCE7gcjhCNBmqmJdOZkYEr3preXMryNfsBoh3vbNV0cC41ydmh29snQEOygl4w9gTJQmaapo2jcNGa1wGocaiEEvYT3r4RtquSyCdPI43gse1SXKnnIJQn8eYRC+Zv62mnoRGJsBmK/IV2ScBbwEsq26Y53L6JOZ/QryK0UpxY0xlgOE4voi2Pwsju+NrA2CkHj/rEJMNgybenCn+0w8RaCCHSkLUed3gDdhyfHAgfCRns7o9QbeY/6n03A3jvPoHY9RAzCX8nk/SvHYkNDsXU6PMmSIttbCL3dGBzc2KSZJlVauw7v+8zmICF1J36d4z+95N95NPaBxwqvbi+f8e0ShdRZaDvJLV4+2mKp9DDU8kSD6Q9jj9hWjXjl2aMtttbCv/vy0Qeeds9FvK2yIa+4Hg4fs2PBu88Mi9UzYsGKpx/GXu6ykTB4W2G12nboLIXp+A/v76X0pKfqamqP7/uYWHn6lHsTsnt6OtV45imkbK3F+BmS4Zj+cQ7BObaFLXJ+iAvZotK8FTSgv8ONbkVRyAeZQj/LWFHJK7I/mkXyC7XI77fK+Pv0cc3zB7eHiw3fvaH8IaFc5PkpzF9/kdmvCG4of9VCYf6KD7X4ndP3e50/rRpuBH+WorPBGaiV1Hoj+CNfNiWiodj1Z5XiRvDX0t569Rqygih6/V6luCH8lfqa6r/B/FX/dHwq/LVe7kbV+Wvtf1BNdxR5/JGvPAtmA9mrVlFeD38d9kvBwVXmz9Lbbm9orTby+JMkpKhsBkiCEahbvjQMrYi/S09TvR89dntb3iKq6vJnGW6wN9mL3nu0WPTl8TeNKX+C5JJklyR4NFWTLibi7R+28A1iGdgW4729kKj/DqCfo7m5eZjhNgVNJWJOCRtgHSEH13AxPq7a118/GTsUnbutWFzkz6G5HJQ/TbZIgujS3LIiepQL/egfbn7woIEBxjP06CkRjBjYL4KA0NYMYFwCrz09NJVIR6++q7sB0o8Oe0N73h1c/edf83U//zyi2qWoHsafpoqaW/EIrnz+qt4J6If90hKMa3j/Vn+Z5QX+BI1cgm7RRe9fhzqtORRJ06Ra8NdaYKagPv6rCHX+KsMN4a/UX9T5y0WLnb0mi0d7nb8c3CqRPYLrWkWYjxvB3yeMOn+Voc5fZajzVxnq/FUG4K++rK0CNCF7P5vSqaMcNCE+81VHWRj+f79FOGAQbCLrAAAAAElFTkSuQmCC)"
      ]
    },
    {
      "cell_type": "code",
      "metadata": {
        "colab": {
          "base_uri": "https://localhost:8080/"
        },
        "id": "fG0aYncsnEIY",
        "outputId": "b78ea44d-790a-4220-87f2-8803077a53cb"
      },
      "source": [
        "import numpy as np\n",
        "k = 4\n",
        "num_val_sample = len(train_data)// k\n",
        "num_epochs = 50\n",
        "all_scores = []\n",
        "\n",
        "for i in range(k):\n",
        "  print('Processing fold #',i)\n",
        "  # K sayısncı parçada ki doğrulama verisini hazırlar\n",
        "  val_data = train_data[i * num_val_sample:(i + 1) * num_val_sample]\n",
        "  val_target = train_targets[i * num_val_sample: (i + 1) * num_val_sample]\n",
        "  # Eğitim veri setini hazırlar: Veriler diğer parçalardan gelir\n",
        "  partial_train_data = np.concatenate([train_data[:i * num_val_sample], train_data[(i + 1)* num_val_sample:]],axis=0)\n",
        "  partial_targets_data = np.concatenate([train_targets[:i * num_val_sample],train_targets[(i + 1) * num_val_sample:]],axis=0)\n",
        "  model.fit(partial_train_data, partial_targets_data, epochs=num_epochs, batch_size=1,verbose=0)\n",
        "  val_mse, val_mae = model.evaluate(val_data,val_target,verbose=0)\n",
        "  all_scores.append(val_mae)"
      ],
      "execution_count": 26,
      "outputs": [
        {
          "output_type": "stream",
          "name": "stdout",
          "text": [
            "Processing fold # 0\n",
            "Processing fold # 1\n",
            "Processing fold # 2\n",
            "Processing fold # 3\n"
          ]
        }
      ]
    },
    {
      "cell_type": "markdown",
      "metadata": {
        "id": "10VsJC6JtvGu"
      },
      "source": [
        "# Her Parçada Doğrulama Günlüğü Kaydetmek"
      ]
    },
    {
      "cell_type": "code",
      "metadata": {
        "id": "4CCkexfu0KSG"
      },
      "source": [
        "import tensorflow as tf"
      ],
      "execution_count": 35,
      "outputs": []
    },
    {
      "cell_type": "code",
      "metadata": {
        "colab": {
          "base_uri": "https://localhost:8080/"
        },
        "id": "yQQRdqI61tRe",
        "outputId": "9704bb72-be7b-4e6e-e3a0-232d78bd262f"
      },
      "source": [
        "hist_dict = history.history\n",
        "hist_dict.keys()"
      ],
      "execution_count": 39,
      "outputs": [
        {
          "output_type": "execute_result",
          "data": {
            "text/plain": [
              "dict_keys(['loss', 'mae', 'val_loss', 'val_mae'])"
            ]
          },
          "metadata": {},
          "execution_count": 39
        }
      ]
    },
    {
      "cell_type": "code",
      "metadata": {
        "colab": {
          "base_uri": "https://localhost:8080/"
        },
        "id": "U0uywaKAtuAR",
        "outputId": "827c6efd-a6a3-43c6-ff1e-383cdc1003fd"
      },
      "source": [
        "num_epochs1 = 250\n",
        "all_mae_histories = []\n",
        "for i in range(k):\n",
        "  print('processing fold #',i)\n",
        "\n",
        "  val_data = train_data[i * num_val_sample:(i + 1) * num_val_sample]\n",
        "  val_target = train_targets[i * num_val_sample: (i + 1) * num_val_sample]\n",
        "  # Eğitim veri setini hazırlar: Veriler diğer parçalardan gelir\n",
        "  partial_train_data = np.concatenate([train_data[:i * num_val_sample], train_data[(i + 1)* num_val_sample:]],axis=0)\n",
        "  partial_targets_data = np.concatenate([train_targets[:i * num_val_sample],train_targets[(i + 1) * num_val_sample:]],axis=0)\n",
        "  history = model.fit(partial_train_data,partial_targets_data,validation_data=(val_data,val_target),epochs=num_epochs1,batch_size=1,verbose=0)\n",
        "  mae_history = history.history['mae']\n",
        "  all_mae_histories.append(mae_history)"
      ],
      "execution_count": 40,
      "outputs": [
        {
          "output_type": "stream",
          "name": "stdout",
          "text": [
            "processing fold # 0\n",
            "processing fold # 1\n",
            "processing fold # 2\n",
            "processing fold # 3\n"
          ]
        }
      ]
    },
    {
      "cell_type": "code",
      "metadata": {
        "id": "NwtEmx8ZweuK"
      },
      "source": [
        "#k-fold doğrulama skorların ortalamasını alma işlemi\n",
        "average_mae_history = [\n",
        "                       np.mean([x[i] for x in all_mae_histories]) for i in range(num_epochs)]"
      ],
      "execution_count": 41,
      "outputs": []
    },
    {
      "cell_type": "code",
      "metadata": {
        "colab": {
          "base_uri": "https://localhost:8080/",
          "height": 278
        },
        "id": "NvK_fDZ3x043",
        "outputId": "f2394616-3bc1-4312-df27-191850b06d22"
      },
      "source": [
        "#Doğrulama skorları gösterimi\n",
        "import matplotlib.pyplot as plt\n",
        "plt.plot(range(1, len(average_mae_history) + 1), average_mae_history)\n",
        "plt.xlabel('Epochs')\n",
        "plt.ylabel('MAE-(Doğrulama)')\n",
        "plt.show()"
      ],
      "execution_count": 43,
      "outputs": [
        {
          "output_type": "display_data",
          "data": {
            "image/png": "[encoded data removed]",
            "text/plain": [
              "<Figure size 432x288 with 1 Axes>"
            ]
          },
          "metadata": {
            "needs_background": "light"
          }
        }
      ]
    },
    {
      "cell_type": "markdown",
      "metadata": {
        "id": "qJb83_Uh4LjW"
      },
      "source": [
        "# **Modeli Son Olarak Eğitelim**"
      ]
    },
    {
      "cell_type": "code",
      "metadata": {
        "colab": {
          "base_uri": "https://localhost:8080/"
        },
        "id": "v0YKJane4LIR",
        "outputId": "acaae26b-cd95-43e8-9f3b-bd2e2dc37019"
      },
      "source": [
        "model.fit(train_data,train_targets, epochs=80,batch_size=16,verbose=0)\n",
        "test_mse_score, test_mae_score = model.evaluate(test_data, test_target)"
      ],
      "execution_count": 45,
      "outputs": [
        {
          "output_type": "stream",
          "name": "stdout",
          "text": [
            "4/4 [==============================] - 0s 4ms/step - loss: 11.9978 - mae: 2.5786\n"
          ]
        }
      ]
    },
    {
      "cell_type": "code",
      "metadata": {
        "colab": {
          "base_uri": "https://localhost:8080/"
        },
        "id": "HWX4kAFV6583",
        "outputId": "a2bcfab1-ff74-4243-f40c-ca9808d5762a"
      },
      "source": [
        "print(\"Modelin Gerçek Fiyatlardan Tahmin Edilen Uzaklığı {0:.3f}\".format(test_mae_score))# Dolar türünden düşünülmelidir"
      ],
      "execution_count": 54,
      "outputs": [
        {
          "output_type": "stream",
          "name": "stdout",
          "text": [
            "Modelin Gerçek Fiyatlardan Tahmin Edilen Uzaklığı 2.579\n"
          ]
        }
      ]
    },
    {
      "cell_type": "markdown",
      "metadata": {
        "id": "MoIr5qLS4wCR"
      },
      "source": [
        "# **Sonuçlar ve Yorumlama**\n",
        "> Gerçek fiyatlardan 2550 $ daha uzakta bir tahmin yapmış demekteyiz\n",
        "\n",
        "Çok az veri varken K-fold çapraz doğrulama kullanmak modeli değerlendirmek için çok güvenli bir yoldur.\n",
        "Çok az veri varken bir **hidden layer size** 'gizli katman' bir veya iki tane kullanmak küçük modeller için **overfitting** 'aşırı uydurma' önüne geçer"
      ]
    }
  ]
}